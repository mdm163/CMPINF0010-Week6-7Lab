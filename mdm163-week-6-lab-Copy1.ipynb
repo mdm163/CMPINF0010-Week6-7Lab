{
 "cells": [
  {
   "cell_type": "markdown",
   "metadata": {},
   "source": [
    "# Lab 6 (Project Part 1):"
   ]
  },
  {
   "cell_type": "code",
   "execution_count": 1,
   "metadata": {},
   "outputs": [
    {
     "name": "stdin",
     "output_type": "stream",
     "text": [
      "Please enter your name:  Mikey\n",
      "Please enter your occupation:  CS\n"
     ]
    },
    {
     "name": "stdout",
     "output_type": "stream",
     "text": [
      "Your name is Mikey and your occupation is CS\n"
     ]
    }
   ],
   "source": [
    "\n",
    "name = str(input(prompt=\"Please enter your name: \"))\n",
    "        \n",
    "occupation = str(input(prompt=\"Please enter your occupation: \"))\n",
    "            \n",
    "print(\"Your name is \" + name + \" and your occupation is \" + occupation)"
   ]
  },
  {
   "cell_type": "code",
   "execution_count": null,
   "metadata": {},
   "outputs": [],
   "source": []
  }
 ],
 "metadata": {
  "kernelspec": {
   "display_name": "Python 3",
   "language": "python",
   "name": "python3"
  },
  "language_info": {
   "codemirror_mode": {
    "name": "ipython",
    "version": 3
   },
   "file_extension": ".py",
   "mimetype": "text/x-python",
   "name": "python",
   "nbconvert_exporter": "python",
   "pygments_lexer": "ipython3",
   "version": "3.6.7"
  }
 },
 "nbformat": 4,
 "nbformat_minor": 4
}
